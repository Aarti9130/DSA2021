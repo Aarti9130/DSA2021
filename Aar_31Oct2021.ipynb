{
  "nbformat": 4,
  "nbformat_minor": 0,
  "metadata": {
    "colab": {
      "name": "Aar_31Oct2021.ipynb",
      "provenance": [],
      "collapsed_sections": []
    },
    "kernelspec": {
      "name": "python3",
      "display_name": "Python 3"
    },
    "language_info": {
      "name": "python"
    }
  },
  "cells": [
    {
      "cell_type": "markdown",
      "metadata": {
        "id": "VitngVirNCe0"
      },
      "source": [
        "**1. Program to find the Area of an Equilateral triangle.**"
      ]
    },
    {
      "cell_type": "code",
      "metadata": {
        "id": "rP2qFD_SlrS_",
        "colab": {
          "base_uri": "https://localhost:8080/"
        },
        "outputId": "2b7508ae-34f5-4d10-cfd9-ea3593636935"
      },
      "source": [
        "import math\n",
        "side=float(input(\"Enter the side of the equilateral triangle:\"))\n",
        "area = ((math.sqrt(3))/4)*pow(side,2)\n",
        "print(\"Area:\",area)"
      ],
      "execution_count": 6,
      "outputs": [
        {
          "output_type": "stream",
          "name": "stdout",
          "text": [
            "Enter the side of the equilateral triangle:4\n",
            "Area: 6.928203230275509\n"
          ]
        }
      ]
    },
    {
      "cell_type": "markdown",
      "metadata": {
        "id": "-Ead7goVL8Gq"
      },
      "source": [
        "**2. Program to count the number of charecters in a string.**"
      ]
    },
    {
      "cell_type": "code",
      "metadata": {
        "colab": {
          "base_uri": "https://localhost:8080/"
        },
        "id": "FnOfy772Rj2t",
        "outputId": "efafdd91-5637-418f-94e2-c3c3eba50968"
      },
      "source": [
        "string1=input(\"Enter the string: \")\n",
        "c=0\n",
        "print(\"The entered string is:\",string1)\n",
        "for i in range(0,len(string1)):\n",
        "  c=c+1;\n",
        "print(\"Count of char is:\",c)"
      ],
      "execution_count": 69,
      "outputs": [
        {
          "output_type": "stream",
          "name": "stdout",
          "text": [
            "Enter the string: Hello World\n",
            "The entered string is: Hello World\n",
            "Count of char is: 11\n"
          ]
        }
      ]
    },
    {
      "cell_type": "markdown",
      "metadata": {
        "id": "wwgvfBw2MDmK"
      },
      "source": [
        "**3. Program to find Area and Perimeter of a Triangle using Functions.**"
      ]
    },
    {
      "cell_type": "code",
      "metadata": {
        "colab": {
          "base_uri": "https://localhost:8080/"
        },
        "id": "uf20RvWsS5Fd",
        "outputId": "f13b274e-807b-47ae-9062-dbc15287a69c"
      },
      "source": [
        "import math\n",
        "def peri(s1,s2,s3):\n",
        "  return s1+s2+s3\n",
        "def area(s1,s2,s3):\n",
        "  p=peri(s1,s2,s3)\n",
        "  semi_p=p/2\n",
        "  area=(semi_p*(semi_p-s1)*(semi_p-s2)*(semi_p-s3))**0.5\n",
        "  print(\"Perimeter of the triangle is:\",p)\n",
        "  print(\"Area of the triangle is:\", area)\n",
        "s1=float(input(\"Enter side1 of the triangle:\"))\n",
        "s2=float(input(\"Enter side2 of the triangle:\"))\n",
        "s3=float(input(\"Enter side3 of the triangle:\"))\n",
        "area(s1,s2,s3)"
      ],
      "execution_count": 15,
      "outputs": [
        {
          "output_type": "stream",
          "name": "stdout",
          "text": [
            "Enter side1 of the triangle:3\n",
            "Enter side2 of the triangle:4\n",
            "Enter side3 of the triangle:6\n",
            "Perimeter of the triangle is: 13.0\n",
            "Area of the triangle is: 5.332682251925386\n"
          ]
        }
      ]
    },
    {
      "cell_type": "markdown",
      "metadata": {
        "id": "P7i20DhYMPXL"
      },
      "source": [
        "**4. Program to print Fibonacci series till a specified number.**"
      ]
    },
    {
      "cell_type": "code",
      "metadata": {
        "colab": {
          "base_uri": "https://localhost:8080/"
        },
        "id": "ryrItXn5bvDg",
        "outputId": "257c46e0-8c37-47c7-f533-20f74978eb39"
      },
      "source": [
        "def fib(num):\n",
        "    a = 0\n",
        "    b = 1\n",
        "    if num == 1:\n",
        "        print(a)\n",
        "    else:\n",
        "        print(a)\n",
        "        print(b)\n",
        "        for i in range(2,num):\n",
        "            c = a + b\n",
        "            a = b\n",
        "            b = c\n",
        "            print(c)\n",
        "num=int(input(\"Enter the range:\"))\n",
        "print(\"The Fibonacci series till the range of\",num,\"is:\")\n",
        "fib(num)"
      ],
      "execution_count": 70,
      "outputs": [
        {
          "output_type": "stream",
          "name": "stdout",
          "text": [
            "Enter the range:5\n",
            "The Fibonacci series till the range of 5 is:\n",
            "0\n",
            "1\n",
            "1\n",
            "2\n",
            "3\n"
          ]
        }
      ]
    },
    {
      "cell_type": "markdown",
      "metadata": {
        "id": "qrErThs5MqSi"
      },
      "source": [
        "**5. Program to find Minimum of 3 numbers using Conditional Statements.**"
      ]
    },
    {
      "cell_type": "code",
      "metadata": {
        "colab": {
          "base_uri": "https://localhost:8080/"
        },
        "id": "N6ME_ltlhtKM",
        "outputId": "a2c9e634-d358-438f-992f-6e6e34fc3a11"
      },
      "source": [
        "a,b,c = input(\"Enter three numbers followed by space : \").split()\n",
        "\n",
        "print(\"First number :\",a)\n",
        "print(\"Second number :\",b)\n",
        "print(\"Third number :\",c)\n",
        "if a<=b and a<=c:\n",
        "  print(a, \"is the smallest\")\n",
        "elif b<=a and b<=c:\n",
        "  print(b, \"is the smallest\")\n",
        "else:\n",
        "  print(c, \"is the smallest\")   "
      ],
      "execution_count": 44,
      "outputs": [
        {
          "output_type": "stream",
          "name": "stdout",
          "text": [
            "Enter three numbers followed by space : 32 64 11\n",
            "First number : 32\n",
            "Second number : 64\n",
            "Third number : 11\n",
            "11 is the smallest\n"
          ]
        }
      ]
    },
    {
      "cell_type": "markdown",
      "metadata": {
        "id": "Ozc7E-2CNhEe"
      },
      "source": [
        "**6. Program to print Star Pyramid.**"
      ]
    },
    {
      "cell_type": "code",
      "metadata": {
        "colab": {
          "base_uri": "https://localhost:8080/"
        },
        "id": "G4QWaNZX-dN2",
        "outputId": "fcb026cd-c83c-4339-a6bf-a423de6696fa"
      },
      "source": [
        "num=int(input(\"Enter the range\"))\n",
        "def pyr(num):\n",
        "  for i in range(0,num):\n",
        "    for j in range(0,i+1):\n",
        "      print(\"*\",end=\"\")\n",
        "    print(\"\\n\")\n",
        "pyr(num)      "
      ],
      "execution_count": 50,
      "outputs": [
        {
          "output_type": "stream",
          "name": "stdout",
          "text": [
            "Enter the range5\n",
            "*\n",
            "\n",
            "**\n",
            "\n",
            "***\n",
            "\n",
            "****\n",
            "\n",
            "*****\n",
            "\n"
          ]
        }
      ]
    },
    {
      "cell_type": "markdown",
      "metadata": {
        "id": "mbetw2TaNqDS"
      },
      "source": [
        "**7. Program to Convert Hours to Seconds**"
      ]
    },
    {
      "cell_type": "code",
      "metadata": {
        "colab": {
          "base_uri": "https://localhost:8080/"
        },
        "id": "gd3l4HVLBw4E",
        "outputId": "80b769a1-3bcc-4f38-f6c5-16e5abca354e"
      },
      "source": [
        "hr=int(input(\"Enter the time in hours:\"))\n",
        "def to_sec(hr):\n",
        "  sec=hr*3600\n",
        "  print(hr, \"Hours is: \",sec,\"Seconds\")\n",
        "to_sec(hr)\n"
      ],
      "execution_count": 52,
      "outputs": [
        {
          "output_type": "stream",
          "name": "stdout",
          "text": [
            "Enter the time in hours:2\n",
            "2 Hours is:  7200 Seconds\n"
          ]
        }
      ]
    },
    {
      "cell_type": "markdown",
      "metadata": {
        "id": "T-tM691uNzst"
      },
      "source": [
        "**8. Program to print Multiplication Table.**"
      ]
    },
    {
      "cell_type": "code",
      "metadata": {
        "colab": {
          "base_uri": "https://localhost:8080/"
        },
        "id": "4GVOUCuuC9Jo",
        "outputId": "4f874b06-1d0c-4e40-8222-eb3067e68183"
      },
      "source": [
        "num=int(input(\"Enter a number to find the Multiplication table:\"))\n",
        "for i in range (1,11):\n",
        "  print(num,\"x\",i,\"=\",num*i)\n"
      ],
      "execution_count": 54,
      "outputs": [
        {
          "output_type": "stream",
          "name": "stdout",
          "text": [
            "Enter a number to find the Multiplication table:5\n",
            "5 x 1 = 5\n",
            "5 x 2 = 10\n",
            "5 x 3 = 15\n",
            "5 x 4 = 20\n",
            "5 x 5 = 25\n",
            "5 x 6 = 30\n",
            "5 x 7 = 35\n",
            "5 x 8 = 40\n",
            "5 x 9 = 45\n",
            "5 x 10 = 50\n"
          ]
        }
      ]
    },
    {
      "cell_type": "markdown",
      "metadata": {
        "id": "9maVJ2QcN8fH"
      },
      "source": [
        "**9. Program to take 5 Fav Foods as a List, and display it**"
      ]
    },
    {
      "cell_type": "code",
      "metadata": {
        "colab": {
          "base_uri": "https://localhost:8080/"
        },
        "id": "ZC1Wlrp7D0nO",
        "outputId": "b21c2b55-4f33-4d0e-efda-51fcd7b2daf1"
      },
      "source": [
        "fav_food=input(\"Enter your favourite foodlist followed by space\").split()\n",
        "for i in range(len(fav_food)):\n",
        "  print(\"I love\",fav_food[i])\n"
      ],
      "execution_count": 62,
      "outputs": [
        {
          "output_type": "stream",
          "name": "stdout",
          "text": [
            "Enter your favourite foodlist followed by spaceBiryani Kunafa Madhfoon Cakes Puttu\n",
            "I love Biryani\n",
            "I love Kunafa\n",
            "I love Madhfoon\n",
            "I love Cakes\n",
            "I love Puttu\n"
          ]
        }
      ]
    },
    {
      "cell_type": "markdown",
      "metadata": {
        "id": "caY_laZCOUdl"
      },
      "source": [
        "**10. Error Finding and Fixing**"
      ]
    },
    {
      "cell_type": "code",
      "metadata": {
        "colab": {
          "base_uri": "https://localhost:8080/"
        },
        "id": "q10wV4N1HJAF",
        "outputId": "3f20ccf0-303b-4d37-ac44-09e1f3c43511"
      },
      "source": [
        "x=int(input(\"Enter value of x:\")) #input function missing, wrong parenthesis: fixed\n",
        "y=int(input(\"Enter the value of y:\"))\n",
        "for i in range (0,10):  #loop control variable missing, wrong brackets used: fixed\n",
        "     if x==y:  #equal operator wrong, colon missing after if statement: fixed\n",
        "          print(\"They are equal\")\n",
        "     else:\n",
        "         print( \"They are unequal\") #print alphabet p in uppercase fixed"
      ],
      "execution_count": 68,
      "outputs": [
        {
          "output_type": "stream",
          "name": "stdout",
          "text": [
            "Enter value of x:8\n",
            "Enter the value of y:5\n",
            "They are unequal\n",
            "They are unequal\n",
            "They are unequal\n",
            "They are unequal\n",
            "They are unequal\n",
            "They are unequal\n",
            "They are unequal\n",
            "They are unequal\n",
            "They are unequal\n",
            "They are unequal\n"
          ]
        }
      ]
    }
  ]
}